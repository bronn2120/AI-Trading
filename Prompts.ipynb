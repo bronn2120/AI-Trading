{
 "cells": [
  {
   "cell_type": "code",
   "execution_count": null,
   "id": "bb11de50-ce5a-4136-b1d8-8d7a2f778ec4",
   "metadata": {},
   "outputs": [],
   "source": []
  },
  {
   "cell_type": "code",
   "execution_count": null,
   "id": "676a7562-6e50-4269-9662-b62691e64091",
   "metadata": {},
   "outputs": [],
   "source": []
  },
  {
   "cell_type": "code",
   "execution_count": 1,
   "id": "93c448e1-c121-4295-9409-964035b59341",
   "metadata": {
    "tags": []
   },
   "outputs": [
    {
     "name": "stdout",
     "output_type": "stream",
     "text": [
      "Defaulting to user installation because normal site-packages is not writeable\n",
      "Collecting jupytext\n",
      "  Downloading jupytext-1.14.6-py3-none-any.whl (298 kB)\n",
      "\u001b[2K     \u001b[90m━━━━━━━━━━━━━━━━━━━━━━━━━━━━━━━━━━━━━━━\u001b[0m \u001b[32m298.7/298.7 KB\u001b[0m \u001b[31m2.7 MB/s\u001b[0m eta \u001b[36m0:00:00\u001b[0m00:01\u001b[0m00:01\u001b[0m\n",
      "\u001b[?25hRequirement already satisfied: nbformat in /home/vince/.local/lib/python3.10/site-packages (from jupytext) (5.8.0)\n",
      "Collecting toml\n",
      "  Downloading toml-0.10.2-py2.py3-none-any.whl (16 kB)\n",
      "Collecting mdit-py-plugins\n",
      "  Downloading mdit_py_plugins-0.4.0-py3-none-any.whl (54 kB)\n",
      "\u001b[2K     \u001b[90m━━━━━━━━━━━━━━━━━━━━━━━━━━━━━━━━━━━━━━━━\u001b[0m \u001b[32m54.1/54.1 KB\u001b[0m \u001b[31m7.2 MB/s\u001b[0m eta \u001b[36m0:00:00\u001b[0m\n",
      "\u001b[?25hCollecting markdown-it-py<3.0.0,>=1.0.0\n",
      "  Downloading markdown_it_py-2.2.0-py3-none-any.whl (84 kB)\n",
      "\u001b[2K     \u001b[90m━━━━━━━━━━━━━━━━━━━━━━━━━━━━━━━━━━━━━━━━\u001b[0m \u001b[32m84.5/84.5 KB\u001b[0m \u001b[31m6.1 MB/s\u001b[0m eta \u001b[36m0:00:00\u001b[0m\n",
      "\u001b[?25hRequirement already satisfied: pyyaml in /usr/lib/python3/dist-packages (from jupytext) (5.4.1)\n",
      "Collecting mdurl~=0.1\n",
      "  Downloading mdurl-0.1.2-py3-none-any.whl (10.0 kB)\n",
      "Requirement already satisfied: fastjsonschema in /home/vince/.local/lib/python3.10/site-packages (from nbformat->jupytext) (2.17.1)\n",
      "Requirement already satisfied: jsonschema>=2.6 in /home/vince/.local/lib/python3.10/site-packages (from nbformat->jupytext) (4.17.3)\n",
      "Requirement already satisfied: traitlets>=5.1 in /home/vince/.local/lib/python3.10/site-packages (from nbformat->jupytext) (5.9.0)\n",
      "Requirement already satisfied: jupyter-core in /home/vince/.local/lib/python3.10/site-packages (from nbformat->jupytext) (5.3.0)\n",
      "Requirement already satisfied: attrs>=17.4.0 in /home/vince/.local/lib/python3.10/site-packages (from jsonschema>=2.6->nbformat->jupytext) (23.1.0)\n",
      "Requirement already satisfied: pyrsistent!=0.17.0,!=0.17.1,!=0.17.2,>=0.14.0 in /home/vince/.local/lib/python3.10/site-packages (from jsonschema>=2.6->nbformat->jupytext) (0.19.3)\n",
      "Requirement already satisfied: platformdirs>=2.5 in /home/vince/.local/lib/python3.10/site-packages (from jupyter-core->nbformat->jupytext) (3.5.1)\n",
      "Installing collected packages: toml, mdurl, markdown-it-py, mdit-py-plugins, jupytext\n",
      "Successfully installed jupytext-1.14.6 markdown-it-py-2.2.0 mdit-py-plugins-0.4.0 mdurl-0.1.2 toml-0.10.2\n",
      "Note: you may need to restart the kernel to use updated packages.\n"
     ]
    }
   ],
   "source": [
    "%pip install jupytext"
   ]
  },
  {
   "cell_type": "code",
   "execution_count": 8,
   "id": "cafce8c6-5044-4a5b-89cb-fa9926828459",
   "metadata": {
    "tags": []
   },
   "outputs": [
    {
     "name": "stdout",
     "output_type": "stream",
     "text": [
      "[jupytext] Reading voice.py in format py\n",
      "[jupytext] Writing voice.ipynb\n"
     ]
    }
   ],
   "source": [
    "!jupytext --to notebook voice.py "
   ]
  },
  {
   "cell_type": "code",
   "execution_count": 5,
   "id": "85112009-333c-48a7-b727-5e90cc9d24f0",
   "metadata": {
    "tags": []
   },
   "outputs": [
    {
     "data": {
      "text/plain": [
       "'/home/vince/ai-assistant'"
      ]
     },
     "execution_count": 5,
     "metadata": {},
     "output_type": "execute_result"
    }
   ],
   "source": [
    "os.getcwd()"
   ]
  },
  {
   "cell_type": "code",
   "execution_count": 4,
   "id": "cee489bb-1c4f-49e4-bb36-acf7aab7976d",
   "metadata": {
    "tags": []
   },
   "outputs": [],
   "source": [
    "import os"
   ]
  },
  {
   "cell_type": "code",
   "execution_count": 6,
   "id": "afbb51ca-f768-4fa4-9cf3-9139a1d9040b",
   "metadata": {
    "tags": []
   },
   "outputs": [
    {
     "name": "stdout",
     "output_type": "stream",
     "text": [
      "Assistant.ipynb                         Untitled.ipynb    scratchpad_openai\n",
      "PyAudio-0.2.11-cp39-cp39-win_amd64.whl  google_voices.py  scratchpad_tts\n",
      "Readme.md                               main.py\n"
     ]
    }
   ],
   "source": [
    "ls"
   ]
  },
  {
   "cell_type": "code",
   "execution_count": null,
   "id": "b43412b6-911b-4f2d-9b4c-03f33cda9ab9",
   "metadata": {},
   "outputs": [],
   "source": []
  }
 ],
 "metadata": {
  "kernelspec": {
   "display_name": "Python 3 (ipykernel)",
   "language": "python",
   "name": "python3"
  },
  "language_info": {
   "codemirror_mode": {
    "name": "ipython",
    "version": 3
   },
   "file_extension": ".py",
   "mimetype": "text/x-python",
   "name": "python",
   "nbconvert_exporter": "python",
   "pygments_lexer": "ipython3",
   "version": "3.10.6"
  }
 },
 "nbformat": 4,
 "nbformat_minor": 5
}
